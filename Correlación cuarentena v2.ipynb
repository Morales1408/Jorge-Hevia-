{
 "cells": [
  {
   "cell_type": "code",
   "execution_count": 1,
   "metadata": {},
   "outputs": [],
   "source": [
    "import pandas as pd\n",
    "import numpy as np\n",
    "import seaborn as sns\n",
    "import matplotlib.pyplot as plt\n",
    "from scipy import stats"
   ]
  },
  {
   "cell_type": "markdown",
   "metadata": {},
   "source": [
    "### Aquí abro la primera ola de respuestas en pystoolkit"
   ]
  },
  {
   "cell_type": "code",
   "execution_count": 2,
   "metadata": {},
   "outputs": [],
   "source": [
    "data1 = pd.read_csv('data.csv',index_col = False)"
   ]
  },
  {
   "cell_type": "code",
   "execution_count": 3,
   "metadata": {},
   "outputs": [
    {
     "data": {
      "text/html": [
       "<div>\n",
       "<style scoped>\n",
       "    .dataframe tbody tr th:only-of-type {\n",
       "        vertical-align: middle;\n",
       "    }\n",
       "\n",
       "    .dataframe tbody tr th {\n",
       "        vertical-align: top;\n",
       "    }\n",
       "\n",
       "    .dataframe thead th {\n",
       "        text-align: right;\n",
       "    }\n",
       "</style>\n",
       "<table border=\"1\" class=\"dataframe\">\n",
       "  <thead>\n",
       "    <tr style=\"text-align: right;\">\n",
       "      <th></th>\n",
       "      <th>participant</th>\n",
       "      <th>age:1</th>\n",
       "      <th>gender:1</th>\n",
       "      <th>noticias:1</th>\n",
       "      <th>antecedente_psiq:1</th>\n",
       "      <th>ndc:1</th>\n",
       "      <th>ndc:2</th>\n",
       "      <th>ndc:3</th>\n",
       "      <th>ndc:4</th>\n",
       "      <th>ndc:5</th>\n",
       "      <th>...</th>\n",
       "      <th>beck:21</th>\n",
       "      <th>previo:1</th>\n",
       "      <th>previo:2</th>\n",
       "      <th>previo:3</th>\n",
       "      <th>previo:4</th>\n",
       "      <th>proximo:1</th>\n",
       "      <th>country</th>\n",
       "      <th>TIME_start</th>\n",
       "      <th>TIME_end</th>\n",
       "      <th>TIME_total</th>\n",
       "    </tr>\n",
       "  </thead>\n",
       "  <tbody>\n",
       "    <tr>\n",
       "      <th>0</th>\n",
       "      <td>s.442dabe3-038d-4177-8093-cad29ab46349.txt</td>\n",
       "      <td>23</td>\n",
       "      <td>1.0</td>\n",
       "      <td>3.0</td>\n",
       "      <td>2.0</td>\n",
       "      <td>1.0</td>\n",
       "      <td>1.0</td>\n",
       "      <td>1.0</td>\n",
       "      <td>1.0</td>\n",
       "      <td>1.0</td>\n",
       "      <td>...</td>\n",
       "      <td>0.0</td>\n",
       "      <td>0.0</td>\n",
       "      <td>0.0</td>\n",
       "      <td>1.0</td>\n",
       "      <td>0.0</td>\n",
       "      <td>1.0</td>\n",
       "      <td>MX, Mexico</td>\n",
       "      <td>2020-03-27-21-59</td>\n",
       "      <td>2020-03-27-22-02</td>\n",
       "      <td>3.0</td>\n",
       "    </tr>\n",
       "    <tr>\n",
       "      <th>1</th>\n",
       "      <td>s.5eff0105-b85b-43c4-a8e2-ec88898f274a.txt</td>\n",
       "      <td>49</td>\n",
       "      <td>2.0</td>\n",
       "      <td>1.0</td>\n",
       "      <td>2.0</td>\n",
       "      <td>3.0</td>\n",
       "      <td>5.0</td>\n",
       "      <td>1.0</td>\n",
       "      <td>1.0</td>\n",
       "      <td>1.0</td>\n",
       "      <td>...</td>\n",
       "      <td>0.0</td>\n",
       "      <td>0.0</td>\n",
       "      <td>0.0</td>\n",
       "      <td>1.0</td>\n",
       "      <td>0.0</td>\n",
       "      <td>1.0</td>\n",
       "      <td>MX, Mexico</td>\n",
       "      <td>2020-04-03-17-37</td>\n",
       "      <td>2020-04-03-18-01</td>\n",
       "      <td>24.0</td>\n",
       "    </tr>\n",
       "    <tr>\n",
       "      <th>2</th>\n",
       "      <td>s.2f4f0f16-10f9-4087-91e1-996f25d726ad.txt</td>\n",
       "      <td>18</td>\n",
       "      <td>2.0</td>\n",
       "      <td>1.0</td>\n",
       "      <td>2.0</td>\n",
       "      <td>4.0</td>\n",
       "      <td>4.0</td>\n",
       "      <td>1.0</td>\n",
       "      <td>4.0</td>\n",
       "      <td>2.0</td>\n",
       "      <td>...</td>\n",
       "      <td>1.0</td>\n",
       "      <td>0.0</td>\n",
       "      <td>0.0</td>\n",
       "      <td>0.0</td>\n",
       "      <td>1.0</td>\n",
       "      <td>1.0</td>\n",
       "      <td>MX, Mexico</td>\n",
       "      <td>2020-04-01-01-12</td>\n",
       "      <td>2020-04-01-01-22</td>\n",
       "      <td>10.0</td>\n",
       "    </tr>\n",
       "  </tbody>\n",
       "</table>\n",
       "<p>3 rows × 54 columns</p>\n",
       "</div>"
      ],
      "text/plain": [
       "                                  participant age:1  gender:1  noticias:1  \\\n",
       "0  s.442dabe3-038d-4177-8093-cad29ab46349.txt    23       1.0         3.0   \n",
       "1  s.5eff0105-b85b-43c4-a8e2-ec88898f274a.txt    49       2.0         1.0   \n",
       "2  s.2f4f0f16-10f9-4087-91e1-996f25d726ad.txt    18       2.0         1.0   \n",
       "\n",
       "   antecedente_psiq:1  ndc:1  ndc:2  ndc:3  ndc:4  ndc:5     ...      beck:21  \\\n",
       "0                 2.0    1.0    1.0    1.0    1.0    1.0     ...          0.0   \n",
       "1                 2.0    3.0    5.0    1.0    1.0    1.0     ...          0.0   \n",
       "2                 2.0    4.0    4.0    1.0    4.0    2.0     ...          1.0   \n",
       "\n",
       "   previo:1  previo:2  previo:3  previo:4  proximo:1     country  \\\n",
       "0       0.0       0.0       1.0       0.0        1.0  MX, Mexico   \n",
       "1       0.0       0.0       1.0       0.0        1.0  MX, Mexico   \n",
       "2       0.0       0.0       0.0       1.0        1.0  MX, Mexico   \n",
       "\n",
       "         TIME_start          TIME_end  TIME_total  \n",
       "0  2020-03-27-21-59  2020-03-27-22-02         3.0  \n",
       "1  2020-04-03-17-37  2020-04-03-18-01        24.0  \n",
       "2  2020-04-01-01-12  2020-04-01-01-22        10.0  \n",
       "\n",
       "[3 rows x 54 columns]"
      ]
     },
     "execution_count": 3,
     "metadata": {},
     "output_type": "execute_result"
    }
   ],
   "source": [
    "data1.head(3)"
   ]
  },
  {
   "cell_type": "markdown",
   "metadata": {},
   "source": [
    "### Aquí abro la segunda ola de respuestas en psytoolkit"
   ]
  },
  {
   "cell_type": "code",
   "execution_count": 4,
   "metadata": {},
   "outputs": [],
   "source": [
    "data2 = pd.read_csv('data(1).csv',index_col = False)"
   ]
  },
  {
   "cell_type": "code",
   "execution_count": 5,
   "metadata": {},
   "outputs": [
    {
     "data": {
      "text/html": [
       "<div>\n",
       "<style scoped>\n",
       "    .dataframe tbody tr th:only-of-type {\n",
       "        vertical-align: middle;\n",
       "    }\n",
       "\n",
       "    .dataframe tbody tr th {\n",
       "        vertical-align: top;\n",
       "    }\n",
       "\n",
       "    .dataframe thead th {\n",
       "        text-align: right;\n",
       "    }\n",
       "</style>\n",
       "<table border=\"1\" class=\"dataframe\">\n",
       "  <thead>\n",
       "    <tr style=\"text-align: right;\">\n",
       "      <th></th>\n",
       "      <th>participant</th>\n",
       "      <th>age:1</th>\n",
       "      <th>gender:1</th>\n",
       "      <th>noticias:1</th>\n",
       "      <th>antecedente_psiq:1</th>\n",
       "      <th>ndc:1</th>\n",
       "      <th>ndc:2</th>\n",
       "      <th>ndc:3</th>\n",
       "      <th>ndc:4</th>\n",
       "      <th>ndc:5</th>\n",
       "      <th>...</th>\n",
       "      <th>beck:21</th>\n",
       "      <th>previo:1</th>\n",
       "      <th>previo:2</th>\n",
       "      <th>previo:3</th>\n",
       "      <th>previo:4</th>\n",
       "      <th>proximo:1</th>\n",
       "      <th>country</th>\n",
       "      <th>TIME_start</th>\n",
       "      <th>TIME_end</th>\n",
       "      <th>TIME_total</th>\n",
       "    </tr>\n",
       "  </thead>\n",
       "  <tbody>\n",
       "    <tr>\n",
       "      <th>0</th>\n",
       "      <td>s.dcd89188-069a-4275-8995-09e3e6b45d9b.txt</td>\n",
       "      <td>26.0</td>\n",
       "      <td>1.0</td>\n",
       "      <td>2.0</td>\n",
       "      <td>2.0</td>\n",
       "      <td>2.0</td>\n",
       "      <td>4.0</td>\n",
       "      <td>2.0</td>\n",
       "      <td>2.0</td>\n",
       "      <td>2.0</td>\n",
       "      <td>...</td>\n",
       "      <td>2.0</td>\n",
       "      <td>0.0</td>\n",
       "      <td>0.0</td>\n",
       "      <td>1.0</td>\n",
       "      <td>0.0</td>\n",
       "      <td>1.0</td>\n",
       "      <td>MX, Mexico</td>\n",
       "      <td>2020-04-16-22-59</td>\n",
       "      <td>2020-04-16-23-08</td>\n",
       "      <td>9.0</td>\n",
       "    </tr>\n",
       "    <tr>\n",
       "      <th>1</th>\n",
       "      <td>s.0138202f-e9fc-4aa4-a2f7-7aaf8e4fabca.txt</td>\n",
       "      <td>NaN</td>\n",
       "      <td>NaN</td>\n",
       "      <td>NaN</td>\n",
       "      <td>NaN</td>\n",
       "      <td>NaN</td>\n",
       "      <td>NaN</td>\n",
       "      <td>NaN</td>\n",
       "      <td>NaN</td>\n",
       "      <td>NaN</td>\n",
       "      <td>...</td>\n",
       "      <td>NaN</td>\n",
       "      <td>NaN</td>\n",
       "      <td>NaN</td>\n",
       "      <td>NaN</td>\n",
       "      <td>NaN</td>\n",
       "      <td>NaN</td>\n",
       "      <td>MX, Mexico</td>\n",
       "      <td>2020-04-21-01-03</td>\n",
       "      <td>NaN</td>\n",
       "      <td>NaN</td>\n",
       "    </tr>\n",
       "    <tr>\n",
       "      <th>2</th>\n",
       "      <td>s.9bf647bc-310b-4adf-8232-6c572e711642.txt</td>\n",
       "      <td>NaN</td>\n",
       "      <td>NaN</td>\n",
       "      <td>NaN</td>\n",
       "      <td>NaN</td>\n",
       "      <td>NaN</td>\n",
       "      <td>NaN</td>\n",
       "      <td>NaN</td>\n",
       "      <td>NaN</td>\n",
       "      <td>NaN</td>\n",
       "      <td>...</td>\n",
       "      <td>NaN</td>\n",
       "      <td>NaN</td>\n",
       "      <td>NaN</td>\n",
       "      <td>NaN</td>\n",
       "      <td>NaN</td>\n",
       "      <td>NaN</td>\n",
       "      <td>MX, Mexico</td>\n",
       "      <td>2020-04-21-01-07</td>\n",
       "      <td>NaN</td>\n",
       "      <td>NaN</td>\n",
       "    </tr>\n",
       "  </tbody>\n",
       "</table>\n",
       "<p>3 rows × 54 columns</p>\n",
       "</div>"
      ],
      "text/plain": [
       "                                  participant  age:1  gender:1  noticias:1  \\\n",
       "0  s.dcd89188-069a-4275-8995-09e3e6b45d9b.txt   26.0       1.0         2.0   \n",
       "1  s.0138202f-e9fc-4aa4-a2f7-7aaf8e4fabca.txt    NaN       NaN         NaN   \n",
       "2  s.9bf647bc-310b-4adf-8232-6c572e711642.txt    NaN       NaN         NaN   \n",
       "\n",
       "   antecedente_psiq:1  ndc:1  ndc:2  ndc:3  ndc:4  ndc:5     ...      beck:21  \\\n",
       "0                 2.0    2.0    4.0    2.0    2.0    2.0     ...          2.0   \n",
       "1                 NaN    NaN    NaN    NaN    NaN    NaN     ...          NaN   \n",
       "2                 NaN    NaN    NaN    NaN    NaN    NaN     ...          NaN   \n",
       "\n",
       "   previo:1  previo:2  previo:3  previo:4  proximo:1     country  \\\n",
       "0       0.0       0.0       1.0       0.0        1.0  MX, Mexico   \n",
       "1       NaN       NaN       NaN       NaN        NaN  MX, Mexico   \n",
       "2       NaN       NaN       NaN       NaN        NaN  MX, Mexico   \n",
       "\n",
       "         TIME_start          TIME_end  TIME_total  \n",
       "0  2020-04-16-22-59  2020-04-16-23-08         9.0  \n",
       "1  2020-04-21-01-03               NaN         NaN  \n",
       "2  2020-04-21-01-07               NaN         NaN  \n",
       "\n",
       "[3 rows x 54 columns]"
      ]
     },
     "execution_count": 5,
     "metadata": {},
     "output_type": "execute_result"
    }
   ],
   "source": [
    "data2.head(3)"
   ]
  },
  {
   "cell_type": "markdown",
   "metadata": {},
   "source": [
    "### Aquí junto ambos datasets para obtener uno solo sobre el cual trabajar"
   ]
  },
  {
   "cell_type": "code",
   "execution_count": 7,
   "metadata": {},
   "outputs": [
    {
     "data": {
      "text/html": [
       "<div>\n",
       "<style scoped>\n",
       "    .dataframe tbody tr th:only-of-type {\n",
       "        vertical-align: middle;\n",
       "    }\n",
       "\n",
       "    .dataframe tbody tr th {\n",
       "        vertical-align: top;\n",
       "    }\n",
       "\n",
       "    .dataframe thead th {\n",
       "        text-align: right;\n",
       "    }\n",
       "</style>\n",
       "<table border=\"1\" class=\"dataframe\">\n",
       "  <thead>\n",
       "    <tr style=\"text-align: right;\">\n",
       "      <th></th>\n",
       "      <th>participant</th>\n",
       "      <th>age:1</th>\n",
       "      <th>gender:1</th>\n",
       "      <th>noticias:1</th>\n",
       "      <th>antecedente_psiq:1</th>\n",
       "      <th>ndc:1</th>\n",
       "      <th>ndc:2</th>\n",
       "      <th>ndc:3</th>\n",
       "      <th>ndc:4</th>\n",
       "      <th>ndc:5</th>\n",
       "      <th>...</th>\n",
       "      <th>beck:21</th>\n",
       "      <th>previo:1</th>\n",
       "      <th>previo:2</th>\n",
       "      <th>previo:3</th>\n",
       "      <th>previo:4</th>\n",
       "      <th>proximo:1</th>\n",
       "      <th>country</th>\n",
       "      <th>TIME_start</th>\n",
       "      <th>TIME_end</th>\n",
       "      <th>TIME_total</th>\n",
       "    </tr>\n",
       "  </thead>\n",
       "  <tbody>\n",
       "    <tr>\n",
       "      <th>0</th>\n",
       "      <td>s.442dabe3-038d-4177-8093-cad29ab46349.txt</td>\n",
       "      <td>23</td>\n",
       "      <td>1.0</td>\n",
       "      <td>3.0</td>\n",
       "      <td>2.0</td>\n",
       "      <td>1.0</td>\n",
       "      <td>1.0</td>\n",
       "      <td>1.0</td>\n",
       "      <td>1.0</td>\n",
       "      <td>1.0</td>\n",
       "      <td>...</td>\n",
       "      <td>0.0</td>\n",
       "      <td>0.0</td>\n",
       "      <td>0.0</td>\n",
       "      <td>1.0</td>\n",
       "      <td>0.0</td>\n",
       "      <td>1.0</td>\n",
       "      <td>MX, Mexico</td>\n",
       "      <td>2020-03-27-21-59</td>\n",
       "      <td>2020-03-27-22-02</td>\n",
       "      <td>3.0</td>\n",
       "    </tr>\n",
       "    <tr>\n",
       "      <th>1</th>\n",
       "      <td>s.5eff0105-b85b-43c4-a8e2-ec88898f274a.txt</td>\n",
       "      <td>49</td>\n",
       "      <td>2.0</td>\n",
       "      <td>1.0</td>\n",
       "      <td>2.0</td>\n",
       "      <td>3.0</td>\n",
       "      <td>5.0</td>\n",
       "      <td>1.0</td>\n",
       "      <td>1.0</td>\n",
       "      <td>1.0</td>\n",
       "      <td>...</td>\n",
       "      <td>0.0</td>\n",
       "      <td>0.0</td>\n",
       "      <td>0.0</td>\n",
       "      <td>1.0</td>\n",
       "      <td>0.0</td>\n",
       "      <td>1.0</td>\n",
       "      <td>MX, Mexico</td>\n",
       "      <td>2020-04-03-17-37</td>\n",
       "      <td>2020-04-03-18-01</td>\n",
       "      <td>24.0</td>\n",
       "    </tr>\n",
       "    <tr>\n",
       "      <th>2</th>\n",
       "      <td>s.2f4f0f16-10f9-4087-91e1-996f25d726ad.txt</td>\n",
       "      <td>18</td>\n",
       "      <td>2.0</td>\n",
       "      <td>1.0</td>\n",
       "      <td>2.0</td>\n",
       "      <td>4.0</td>\n",
       "      <td>4.0</td>\n",
       "      <td>1.0</td>\n",
       "      <td>4.0</td>\n",
       "      <td>2.0</td>\n",
       "      <td>...</td>\n",
       "      <td>1.0</td>\n",
       "      <td>0.0</td>\n",
       "      <td>0.0</td>\n",
       "      <td>0.0</td>\n",
       "      <td>1.0</td>\n",
       "      <td>1.0</td>\n",
       "      <td>MX, Mexico</td>\n",
       "      <td>2020-04-01-01-12</td>\n",
       "      <td>2020-04-01-01-22</td>\n",
       "      <td>10.0</td>\n",
       "    </tr>\n",
       "    <tr>\n",
       "      <th>3</th>\n",
       "      <td>s.837f8d44-fe44-4f84-84e8-2e287df5adac.txt</td>\n",
       "      <td>NaN</td>\n",
       "      <td>NaN</td>\n",
       "      <td>NaN</td>\n",
       "      <td>NaN</td>\n",
       "      <td>NaN</td>\n",
       "      <td>NaN</td>\n",
       "      <td>NaN</td>\n",
       "      <td>NaN</td>\n",
       "      <td>NaN</td>\n",
       "      <td>...</td>\n",
       "      <td>NaN</td>\n",
       "      <td>NaN</td>\n",
       "      <td>NaN</td>\n",
       "      <td>NaN</td>\n",
       "      <td>NaN</td>\n",
       "      <td>NaN</td>\n",
       "      <td>MX, Mexico</td>\n",
       "      <td>2020-04-09-05-11</td>\n",
       "      <td>NaN</td>\n",
       "      <td>NaN</td>\n",
       "    </tr>\n",
       "    <tr>\n",
       "      <th>4</th>\n",
       "      <td>s.9d49ad45-bde5-40ec-b9bb-8eab0bbfcc62.txt</td>\n",
       "      <td>NaN</td>\n",
       "      <td>NaN</td>\n",
       "      <td>NaN</td>\n",
       "      <td>NaN</td>\n",
       "      <td>NaN</td>\n",
       "      <td>NaN</td>\n",
       "      <td>NaN</td>\n",
       "      <td>NaN</td>\n",
       "      <td>NaN</td>\n",
       "      <td>...</td>\n",
       "      <td>NaN</td>\n",
       "      <td>NaN</td>\n",
       "      <td>NaN</td>\n",
       "      <td>NaN</td>\n",
       "      <td>NaN</td>\n",
       "      <td>NaN</td>\n",
       "      <td>MX, Mexico</td>\n",
       "      <td>2020-04-09-04-50</td>\n",
       "      <td>NaN</td>\n",
       "      <td>NaN</td>\n",
       "    </tr>\n",
       "  </tbody>\n",
       "</table>\n",
       "<p>5 rows × 54 columns</p>\n",
       "</div>"
      ],
      "text/plain": [
       "                                  participant age:1  gender:1  noticias:1  \\\n",
       "0  s.442dabe3-038d-4177-8093-cad29ab46349.txt    23       1.0         3.0   \n",
       "1  s.5eff0105-b85b-43c4-a8e2-ec88898f274a.txt    49       2.0         1.0   \n",
       "2  s.2f4f0f16-10f9-4087-91e1-996f25d726ad.txt    18       2.0         1.0   \n",
       "3  s.837f8d44-fe44-4f84-84e8-2e287df5adac.txt   NaN       NaN         NaN   \n",
       "4  s.9d49ad45-bde5-40ec-b9bb-8eab0bbfcc62.txt   NaN       NaN         NaN   \n",
       "\n",
       "   antecedente_psiq:1  ndc:1  ndc:2  ndc:3  ndc:4  ndc:5     ...      beck:21  \\\n",
       "0                 2.0    1.0    1.0    1.0    1.0    1.0     ...          0.0   \n",
       "1                 2.0    3.0    5.0    1.0    1.0    1.0     ...          0.0   \n",
       "2                 2.0    4.0    4.0    1.0    4.0    2.0     ...          1.0   \n",
       "3                 NaN    NaN    NaN    NaN    NaN    NaN     ...          NaN   \n",
       "4                 NaN    NaN    NaN    NaN    NaN    NaN     ...          NaN   \n",
       "\n",
       "   previo:1  previo:2  previo:3  previo:4  proximo:1     country  \\\n",
       "0       0.0       0.0       1.0       0.0        1.0  MX, Mexico   \n",
       "1       0.0       0.0       1.0       0.0        1.0  MX, Mexico   \n",
       "2       0.0       0.0       0.0       1.0        1.0  MX, Mexico   \n",
       "3       NaN       NaN       NaN       NaN        NaN  MX, Mexico   \n",
       "4       NaN       NaN       NaN       NaN        NaN  MX, Mexico   \n",
       "\n",
       "         TIME_start          TIME_end  TIME_total  \n",
       "0  2020-03-27-21-59  2020-03-27-22-02         3.0  \n",
       "1  2020-04-03-17-37  2020-04-03-18-01        24.0  \n",
       "2  2020-04-01-01-12  2020-04-01-01-22        10.0  \n",
       "3  2020-04-09-05-11               NaN         NaN  \n",
       "4  2020-04-09-04-50               NaN         NaN  \n",
       "\n",
       "[5 rows x 54 columns]"
      ]
     },
     "execution_count": 7,
     "metadata": {},
     "output_type": "execute_result"
    }
   ],
   "source": [
    "data = data1.append(data2)\n",
    "data.head()"
   ]
  },
  {
   "cell_type": "markdown",
   "metadata": {},
   "source": [
    "### Aquí simplemente elimino todas aquellas entradas que hayan dejado, al menos, una pregunta sin responder\n",
    "\n",
    "\n",
    "\n",
    "\n",
    "a su vez, hago unas correcciones al dataset para que se a más fácil de leer y entender"
   ]
  },
  {
   "cell_type": "code",
   "execution_count": 8,
   "metadata": {},
   "outputs": [
    {
     "data": {
      "text/html": [
       "<div>\n",
       "<style scoped>\n",
       "    .dataframe tbody tr th:only-of-type {\n",
       "        vertical-align: middle;\n",
       "    }\n",
       "\n",
       "    .dataframe tbody tr th {\n",
       "        vertical-align: top;\n",
       "    }\n",
       "\n",
       "    .dataframe thead th {\n",
       "        text-align: right;\n",
       "    }\n",
       "</style>\n",
       "<table border=\"1\" class=\"dataframe\">\n",
       "  <thead>\n",
       "    <tr style=\"text-align: right;\">\n",
       "      <th></th>\n",
       "      <th>participant</th>\n",
       "      <th>age:1</th>\n",
       "      <th>gender:1</th>\n",
       "      <th>noticias:1</th>\n",
       "      <th>antecedente_psiq:1</th>\n",
       "      <th>ndc:1</th>\n",
       "      <th>ndc:2</th>\n",
       "      <th>ndc:3</th>\n",
       "      <th>ndc:4</th>\n",
       "      <th>ndc:5</th>\n",
       "      <th>...</th>\n",
       "      <th>beck:21</th>\n",
       "      <th>previo:1</th>\n",
       "      <th>previo:2</th>\n",
       "      <th>previo:3</th>\n",
       "      <th>previo:4</th>\n",
       "      <th>proximo:1</th>\n",
       "      <th>country</th>\n",
       "      <th>TIME_start</th>\n",
       "      <th>TIME_end</th>\n",
       "      <th>TIME_total</th>\n",
       "    </tr>\n",
       "  </thead>\n",
       "  <tbody>\n",
       "    <tr>\n",
       "      <th>0</th>\n",
       "      <td>s.442dabe3-038d-4177-8093-cad29ab46349.txt</td>\n",
       "      <td>23</td>\n",
       "      <td>1.0</td>\n",
       "      <td>3.0</td>\n",
       "      <td>2.0</td>\n",
       "      <td>1.0</td>\n",
       "      <td>1.0</td>\n",
       "      <td>1.0</td>\n",
       "      <td>1.0</td>\n",
       "      <td>1.0</td>\n",
       "      <td>...</td>\n",
       "      <td>0.0</td>\n",
       "      <td>0.0</td>\n",
       "      <td>0.0</td>\n",
       "      <td>1.0</td>\n",
       "      <td>0.0</td>\n",
       "      <td>1.0</td>\n",
       "      <td>MX, Mexico</td>\n",
       "      <td>2020-03-27-21-59</td>\n",
       "      <td>2020-03-27-22-02</td>\n",
       "      <td>3.0</td>\n",
       "    </tr>\n",
       "    <tr>\n",
       "      <th>1</th>\n",
       "      <td>s.5eff0105-b85b-43c4-a8e2-ec88898f274a.txt</td>\n",
       "      <td>49</td>\n",
       "      <td>2.0</td>\n",
       "      <td>1.0</td>\n",
       "      <td>2.0</td>\n",
       "      <td>3.0</td>\n",
       "      <td>5.0</td>\n",
       "      <td>1.0</td>\n",
       "      <td>1.0</td>\n",
       "      <td>1.0</td>\n",
       "      <td>...</td>\n",
       "      <td>0.0</td>\n",
       "      <td>0.0</td>\n",
       "      <td>0.0</td>\n",
       "      <td>1.0</td>\n",
       "      <td>0.0</td>\n",
       "      <td>1.0</td>\n",
       "      <td>MX, Mexico</td>\n",
       "      <td>2020-04-03-17-37</td>\n",
       "      <td>2020-04-03-18-01</td>\n",
       "      <td>24.0</td>\n",
       "    </tr>\n",
       "    <tr>\n",
       "      <th>2</th>\n",
       "      <td>s.2f4f0f16-10f9-4087-91e1-996f25d726ad.txt</td>\n",
       "      <td>18</td>\n",
       "      <td>2.0</td>\n",
       "      <td>1.0</td>\n",
       "      <td>2.0</td>\n",
       "      <td>4.0</td>\n",
       "      <td>4.0</td>\n",
       "      <td>1.0</td>\n",
       "      <td>4.0</td>\n",
       "      <td>2.0</td>\n",
       "      <td>...</td>\n",
       "      <td>1.0</td>\n",
       "      <td>0.0</td>\n",
       "      <td>0.0</td>\n",
       "      <td>0.0</td>\n",
       "      <td>1.0</td>\n",
       "      <td>1.0</td>\n",
       "      <td>MX, Mexico</td>\n",
       "      <td>2020-04-01-01-12</td>\n",
       "      <td>2020-04-01-01-22</td>\n",
       "      <td>10.0</td>\n",
       "    </tr>\n",
       "    <tr>\n",
       "      <th>5</th>\n",
       "      <td>s.8f9db3a9-cfe7-4281-9051-75522b8d2422.txt</td>\n",
       "      <td>20</td>\n",
       "      <td>1.0</td>\n",
       "      <td>2.0</td>\n",
       "      <td>2.0</td>\n",
       "      <td>4.0</td>\n",
       "      <td>4.0</td>\n",
       "      <td>1.0</td>\n",
       "      <td>1.0</td>\n",
       "      <td>2.0</td>\n",
       "      <td>...</td>\n",
       "      <td>0.0</td>\n",
       "      <td>0.0</td>\n",
       "      <td>0.0</td>\n",
       "      <td>1.0</td>\n",
       "      <td>0.0</td>\n",
       "      <td>1.0</td>\n",
       "      <td>MX, Mexico</td>\n",
       "      <td>2020-04-01-06-09</td>\n",
       "      <td>2020-04-01-06-30</td>\n",
       "      <td>21.0</td>\n",
       "    </tr>\n",
       "    <tr>\n",
       "      <th>6</th>\n",
       "      <td>s.39ef9de8-8083-4e81-8e6a-136bf9d7401e.txt</td>\n",
       "      <td>45</td>\n",
       "      <td>2.0</td>\n",
       "      <td>2.0</td>\n",
       "      <td>2.0</td>\n",
       "      <td>3.0</td>\n",
       "      <td>5.0</td>\n",
       "      <td>1.0</td>\n",
       "      <td>3.0</td>\n",
       "      <td>3.0</td>\n",
       "      <td>...</td>\n",
       "      <td>0.0</td>\n",
       "      <td>0.0</td>\n",
       "      <td>0.0</td>\n",
       "      <td>0.0</td>\n",
       "      <td>1.0</td>\n",
       "      <td>1.0</td>\n",
       "      <td>MX, Mexico</td>\n",
       "      <td>2020-04-08-05-09</td>\n",
       "      <td>2020-04-08-05-39</td>\n",
       "      <td>30.0</td>\n",
       "    </tr>\n",
       "  </tbody>\n",
       "</table>\n",
       "<p>5 rows × 54 columns</p>\n",
       "</div>"
      ],
      "text/plain": [
       "                                  participant age:1  gender:1  noticias:1  \\\n",
       "0  s.442dabe3-038d-4177-8093-cad29ab46349.txt    23       1.0         3.0   \n",
       "1  s.5eff0105-b85b-43c4-a8e2-ec88898f274a.txt    49       2.0         1.0   \n",
       "2  s.2f4f0f16-10f9-4087-91e1-996f25d726ad.txt    18       2.0         1.0   \n",
       "5  s.8f9db3a9-cfe7-4281-9051-75522b8d2422.txt    20       1.0         2.0   \n",
       "6  s.39ef9de8-8083-4e81-8e6a-136bf9d7401e.txt    45       2.0         2.0   \n",
       "\n",
       "   antecedente_psiq:1  ndc:1  ndc:2  ndc:3  ndc:4  ndc:5     ...      beck:21  \\\n",
       "0                 2.0    1.0    1.0    1.0    1.0    1.0     ...          0.0   \n",
       "1                 2.0    3.0    5.0    1.0    1.0    1.0     ...          0.0   \n",
       "2                 2.0    4.0    4.0    1.0    4.0    2.0     ...          1.0   \n",
       "5                 2.0    4.0    4.0    1.0    1.0    2.0     ...          0.0   \n",
       "6                 2.0    3.0    5.0    1.0    3.0    3.0     ...          0.0   \n",
       "\n",
       "   previo:1  previo:2  previo:3  previo:4  proximo:1     country  \\\n",
       "0       0.0       0.0       1.0       0.0        1.0  MX, Mexico   \n",
       "1       0.0       0.0       1.0       0.0        1.0  MX, Mexico   \n",
       "2       0.0       0.0       0.0       1.0        1.0  MX, Mexico   \n",
       "5       0.0       0.0       1.0       0.0        1.0  MX, Mexico   \n",
       "6       0.0       0.0       0.0       1.0        1.0  MX, Mexico   \n",
       "\n",
       "         TIME_start          TIME_end  TIME_total  \n",
       "0  2020-03-27-21-59  2020-03-27-22-02         3.0  \n",
       "1  2020-04-03-17-37  2020-04-03-18-01        24.0  \n",
       "2  2020-04-01-01-12  2020-04-01-01-22        10.0  \n",
       "5  2020-04-01-06-09  2020-04-01-06-30        21.0  \n",
       "6  2020-04-08-05-09  2020-04-08-05-39        30.0  \n",
       "\n",
       "[5 rows x 54 columns]"
      ]
     },
     "execution_count": 8,
     "metadata": {},
     "output_type": "execute_result"
    }
   ],
   "source": [
    "#Elimino todas las filas que tengan mínimo una entrada vacía \n",
    "data = data.dropna()\n",
    "#Verifico mi base de datos\n",
    "data.head()"
   ]
  },
  {
   "cell_type": "code",
   "execution_count": 9,
   "metadata": {},
   "outputs": [
    {
     "data": {
      "text/plain": [
       "Index(['participant', 'age:1', 'gender:1', 'noticias:1', 'antecedente_psiq:1',\n",
       "       'ndc:1', 'ndc:2', 'ndc:3', 'ndc:4', 'ndc:5', 'ndc:6', 'ndc:7', 'ndc:8',\n",
       "       'ndc:9', 'ndc:10', 'ndc:11', 'ndc:12', 'ndc:13', 'ndc:14', 'ndc:15',\n",
       "       'ndc:16', 'ndc:17', 'ndc:18', 'igt:1', 'beck:1', 'beck:2', 'beck:3',\n",
       "       'beck:4', 'beck:5', 'beck:6', 'beck:7', 'beck:8', 'beck:9', 'beck:10',\n",
       "       'beck:11', 'beck:12', 'beck:13', 'beck:14', 'beck:15', 'beck:16',\n",
       "       'beck:17', 'beck:18', 'beck:19', 'beck:20', 'beck:21', 'previo:1',\n",
       "       'previo:2', 'previo:3', 'previo:4', 'proximo:1', 'country',\n",
       "       'TIME_start', 'TIME_end', 'TIME_total'],\n",
       "      dtype='object')"
      ]
     },
     "execution_count": 9,
     "metadata": {},
     "output_type": "execute_result"
    }
   ],
   "source": [
    "#Leo las columnas que hay en mi data\n",
    "data.columns"
   ]
  },
  {
   "cell_type": "code",
   "execution_count": 30,
   "metadata": {},
   "outputs": [],
   "source": [
    "# Aquí calculo el promedio de respuesta tanto para el ndc como para el beck\n",
    "\n",
    "#Paso todos los datos a resultados enteros\n",
    "#data = data.astype(int)\n",
    "#Calculo el promedio para las preguntas del ndc\n",
    "data['promedio ndc'] = (data['ndc:1']+data['ndc:2']+data['ndc:3']+data['ndc:4']+data['ndc:5']+data['ndc:6']+\n",
    "                       data['ndc:7']+data['ndc:8']+data['ndc:9']+data['ndc:10']+data['ndc:11']+data['ndc:12']+\n",
    "                       data['ndc:13']+data['ndc:14']+data['ndc:15']+data['ndc:16']+data['ndc:17']+\n",
    "                       data['ndc:18'])/18\n",
    "#Caldulo el promedio para las preguntas del beck\n",
    "data['promedio beck'] = (data['beck:1']+data['beck:2']+data['beck:3']+data['beck:4']+data['beck:5']+data['beck:6']+\n",
    "                        data['beck:7']+data['beck:8']+data['beck:9']+data['beck:10']+data['beck:11']+data['beck:12']+\n",
    "                        data['beck:13']+data['beck:14']+data['beck:15']+data['beck:16']+data['beck:17']+data['beck:18']+\n",
    "                        data['beck:19']+data['beck:20']+data['beck:21'])/21"
   ]
  },
  {
   "cell_type": "markdown",
   "metadata": {},
   "source": [
    "### Calculo el p valor entre las respuestas puestas en el  ndc y en el beck\n",
    "\n",
    "\n",
    "\n",
    "\n",
    "\n",
    "\n",
    "\n",
    "\n",
    "No había calculado antes el p valor de esta manera, estuve leyendo y según yo, es correcto en cómo lo hice, sin embargo, dejo aquí el cómo y por qué funciona\n",
    "https://docs.scipy.org/doc/scipy-0.14.0/reference/generated/scipy.stats.linregress.html"
   ]
  },
  {
   "cell_type": "code",
   "execution_count": 11,
   "metadata": {},
   "outputs": [
    {
     "name": "stdout",
     "output_type": "stream",
     "text": [
      "Significacncia estadística entre la pregunta #1 entre el ndc y el beck 0.8566703381725043\n"
     ]
    }
   ],
   "source": [
    "'''\n",
    "\n",
    "========================================PREGUNTA 1==========================================================\n",
    "\n",
    "'''\n",
    "ndc = data['ndc:1'].tolist()\n",
    "beck = data['beck:1'].tolist()\n",
    "slope, intercept, r_value, p_value, std_err = stats.linregress(ndc,beck)\n",
    "print('Significacncia estadística entre la pregunta #1 entre el ndc y el beck',p_value)"
   ]
  },
  {
   "cell_type": "code",
   "execution_count": 12,
   "metadata": {},
   "outputs": [
    {
     "name": "stdout",
     "output_type": "stream",
     "text": [
      "Significacncia estadística entre la pregunta #2 entre el ndc y el beck 0.7343232192827238\n"
     ]
    }
   ],
   "source": [
    "'''\n",
    "\n",
    "========================================PREGUNTA 2==========================================================\n",
    "\n",
    "'''\n",
    "ndc = data['ndc:2'].tolist()\n",
    "beck = data['beck:2'].tolist()\n",
    "slope, intercept, r_value, p_value, std_err = stats.linregress(ndc,beck)\n",
    "print('Significacncia estadística entre la pregunta #2 entre el ndc y el beck',p_value)"
   ]
  },
  {
   "cell_type": "code",
   "execution_count": 13,
   "metadata": {},
   "outputs": [
    {
     "name": "stdout",
     "output_type": "stream",
     "text": [
      "Significacncia estadística entre la pregunta #3 entre el ndc y el beck 0.6056240032070425\n"
     ]
    }
   ],
   "source": [
    "'''\n",
    "\n",
    "========================================PREGUNTA 3==========================================================\n",
    "\n",
    "'''\n",
    "ndc = data['ndc:3'].tolist()\n",
    "beck = data['beck:3'].tolist()\n",
    "slope, intercept, r_value, p_value, std_err = stats.linregress(ndc,beck)\n",
    "print('Significacncia estadística entre la pregunta #3 entre el ndc y el beck',p_value)"
   ]
  },
  {
   "cell_type": "code",
   "execution_count": 14,
   "metadata": {},
   "outputs": [
    {
     "name": "stdout",
     "output_type": "stream",
     "text": [
      "Significacncia estadística entre la pregunta #4 entre el ndc y el beck 0.7909122275903053\n"
     ]
    }
   ],
   "source": [
    "'''\n",
    "\n",
    "========================================PREGUNTA 4==========================================================\n",
    "\n",
    "'''\n",
    "ndc = data['ndc:4'].tolist()\n",
    "beck = data['beck:4'].tolist()\n",
    "slope, intercept, r_value, p_value, std_err = stats.linregress(ndc,beck)\n",
    "print('Significacncia estadística entre la pregunta #4 entre el ndc y el beck',p_value)"
   ]
  },
  {
   "cell_type": "code",
   "execution_count": 15,
   "metadata": {},
   "outputs": [
    {
     "name": "stdout",
     "output_type": "stream",
     "text": [
      "Significacncia estadística entre la pregunta #5 entre el ndc y el beck 0.671644831321978\n"
     ]
    }
   ],
   "source": [
    "'''\n",
    "\n",
    "========================================PREGUNTA 5=========================================================\n",
    "\n",
    "'''\n",
    "ndc = data['ndc:5'].tolist()\n",
    "beck = data['beck:5'].tolist()\n",
    "slope, intercept, r_value, p_value, std_err = stats.linregress(ndc,beck)\n",
    "print('Significacncia estadística entre la pregunta #5 entre el ndc y el beck',p_value)"
   ]
  },
  {
   "cell_type": "code",
   "execution_count": 16,
   "metadata": {},
   "outputs": [
    {
     "name": "stdout",
     "output_type": "stream",
     "text": [
      "Significacncia estadística entre la pregunta #6 entre el ndc y el beck 0.4057515663311688\n"
     ]
    }
   ],
   "source": [
    "'''\n",
    "\n",
    "========================================PREGUNTA 6==========================================================\n",
    "\n",
    "'''\n",
    "ndc = data['ndc:6'].tolist()\n",
    "beck = data['beck:6'].tolist()\n",
    "slope, intercept, r_value, p_value, std_err = stats.linregress(ndc,beck)\n",
    "print('Significacncia estadística entre la pregunta #6 entre el ndc y el beck',p_value)"
   ]
  },
  {
   "cell_type": "code",
   "execution_count": 17,
   "metadata": {},
   "outputs": [
    {
     "name": "stdout",
     "output_type": "stream",
     "text": [
      "Significacncia estadística entre la pregunta #7 entre el ndc y el beck 0.3888537610071967\n"
     ]
    }
   ],
   "source": [
    "'''\n",
    "\n",
    "========================================PREGUNTA 7==========================================================\n",
    "\n",
    "'''\n",
    "ndc = data['ndc:7'].tolist()\n",
    "beck = data['beck:1'].tolist()\n",
    "slope, intercept, r_value, p_value, std_err = stats.linregress(ndc,beck)\n",
    "print('Significacncia estadística entre la pregunta #7 entre el ndc y el beck',p_value)"
   ]
  },
  {
   "cell_type": "code",
   "execution_count": 18,
   "metadata": {},
   "outputs": [
    {
     "name": "stdout",
     "output_type": "stream",
     "text": [
      "Significacncia estadística entre la pregunta #8 entre el ndc y el beck 0.7458382849754479\n"
     ]
    }
   ],
   "source": [
    "'''\n",
    "\n",
    "========================================PREGUNTA 8==========================================================\n",
    "\n",
    "'''\n",
    "ndc = data['ndc:8'].tolist()\n",
    "beck = data['beck:8'].tolist()\n",
    "slope, intercept, r_value, p_value, std_err = stats.linregress(ndc,beck)\n",
    "print('Significacncia estadística entre la pregunta #8 entre el ndc y el beck',p_value)"
   ]
  },
  {
   "cell_type": "code",
   "execution_count": 19,
   "metadata": {},
   "outputs": [
    {
     "name": "stdout",
     "output_type": "stream",
     "text": [
      "Significacncia estadística entre la pregunta #9 entre el ndc y el beck 0.9193794327635052\n"
     ]
    }
   ],
   "source": [
    "'''\n",
    "\n",
    "========================================PREGUNTA 9==========================================================\n",
    "\n",
    "'''\n",
    "ndc = data['ndc:9'].tolist()\n",
    "beck = data['beck:9'].tolist()\n",
    "slope, intercept, r_value, p_value, std_err = stats.linregress(ndc,beck)\n",
    "print('Significacncia estadística entre la pregunta #9 entre el ndc y el beck',p_value)"
   ]
  },
  {
   "cell_type": "code",
   "execution_count": 20,
   "metadata": {},
   "outputs": [
    {
     "name": "stdout",
     "output_type": "stream",
     "text": [
      "Significacncia estadística entre la pregunta #10 entre el ndc y el beck 0.11418007644811526\n"
     ]
    }
   ],
   "source": [
    "'''\n",
    "\n",
    "========================================PREGUNTA 10==========================================================\n",
    "\n",
    "'''\n",
    "ndc = data['ndc:10'].tolist()\n",
    "beck = data['beck:10'].tolist()\n",
    "slope, intercept, r_value, p_value, std_err = stats.linregress(ndc,beck)\n",
    "print('Significacncia estadística entre la pregunta #10 entre el ndc y el beck',p_value)"
   ]
  },
  {
   "cell_type": "code",
   "execution_count": 21,
   "metadata": {},
   "outputs": [
    {
     "name": "stdout",
     "output_type": "stream",
     "text": [
      "Significacncia estadística entre la pregunta #11 entre el ndc y el beck 0.13789793239274373\n"
     ]
    }
   ],
   "source": [
    "'''\n",
    "\n",
    "========================================PREGUNTA 11==========================================================\n",
    "\n",
    "'''\n",
    "ndc = data['ndc:11'].tolist()\n",
    "beck = data['beck:11'].tolist()\n",
    "slope, intercept, r_value, p_value, std_err = stats.linregress(ndc,beck)\n",
    "print('Significacncia estadística entre la pregunta #11 entre el ndc y el beck',p_value)"
   ]
  },
  {
   "cell_type": "code",
   "execution_count": 22,
   "metadata": {},
   "outputs": [
    {
     "name": "stdout",
     "output_type": "stream",
     "text": [
      "Significacncia estadística entre la pregunta #12 entre el ndc y el beck 0.03408052439451226\n"
     ]
    }
   ],
   "source": [
    "'''\n",
    "\n",
    "========================================PREGUNTA 12==========================================================\n",
    "\n",
    "'''\n",
    "ndc = data['ndc:12'].tolist()\n",
    "beck = data['beck:12'].tolist()\n",
    "slope, intercept, r_value, p_value, std_err = stats.linregress(ndc,beck)\n",
    "print('Significacncia estadística entre la pregunta #12 entre el ndc y el beck',p_value)"
   ]
  },
  {
   "cell_type": "code",
   "execution_count": 23,
   "metadata": {},
   "outputs": [
    {
     "name": "stdout",
     "output_type": "stream",
     "text": [
      "Significacncia estadística entre la pregunta #13 entre el ndc y el beck 0.932798519530498\n"
     ]
    }
   ],
   "source": [
    "'''\n",
    "\n",
    "========================================PREGUNTA 13==========================================================\n",
    "\n",
    "'''\n",
    "ndc = data['ndc:13'].tolist()\n",
    "beck = data['beck:13'].tolist()\n",
    "slope, intercept, r_value, p_value, std_err = stats.linregress(ndc,beck)\n",
    "print('Significacncia estadística entre la pregunta #13 entre el ndc y el beck',p_value)"
   ]
  },
  {
   "cell_type": "code",
   "execution_count": 24,
   "metadata": {},
   "outputs": [
    {
     "name": "stdout",
     "output_type": "stream",
     "text": [
      "Significacncia estadística entre la pregunta #14 entre el ndc y el beck 0.2945954456406049\n"
     ]
    }
   ],
   "source": [
    "'''\n",
    "\n",
    "========================================PREGUNTA 14==========================================================\n",
    "\n",
    "'''\n",
    "ndc = data['ndc:14'].tolist()\n",
    "beck = data['beck:14'].tolist()\n",
    "slope, intercept, r_value, p_value, std_err = stats.linregress(ndc,beck)\n",
    "print('Significacncia estadística entre la pregunta #14 entre el ndc y el beck',p_value)"
   ]
  },
  {
   "cell_type": "code",
   "execution_count": 25,
   "metadata": {},
   "outputs": [
    {
     "name": "stdout",
     "output_type": "stream",
     "text": [
      "Significacncia estadística entre la pregunta #15 entre el ndc y el beck 0.8035497234144808\n"
     ]
    }
   ],
   "source": [
    "'''\n",
    "\n",
    "========================================PREGUNTA 15==========================================================\n",
    "\n",
    "'''\n",
    "ndc = data['ndc:15'].tolist()\n",
    "beck = data['beck:15'].tolist()\n",
    "slope, intercept, r_value, p_value, std_err = stats.linregress(ndc,beck)\n",
    "print('Significacncia estadística entre la pregunta #15 entre el ndc y el beck',p_value)"
   ]
  },
  {
   "cell_type": "code",
   "execution_count": 26,
   "metadata": {},
   "outputs": [
    {
     "name": "stdout",
     "output_type": "stream",
     "text": [
      "Significacncia estadística entre la pregunta #16 entre el ndc y el beck 0.24857909543735213\n"
     ]
    }
   ],
   "source": [
    "'''\n",
    "\n",
    "========================================PREGUNTA 16==========================================================\n",
    "\n",
    "'''\n",
    "ndc = data['ndc:16'].tolist()\n",
    "beck = data['beck:16'].tolist()\n",
    "slope, intercept, r_value, p_value, std_err = stats.linregress(ndc,beck)\n",
    "print('Significacncia estadística entre la pregunta #16 entre el ndc y el beck',p_value)"
   ]
  },
  {
   "cell_type": "code",
   "execution_count": 27,
   "metadata": {},
   "outputs": [
    {
     "name": "stdout",
     "output_type": "stream",
     "text": [
      "Significacncia estadística entre la pregunta #17 entre el ndc y el beck 0.31819454786083207\n"
     ]
    }
   ],
   "source": [
    "'''\n",
    "\n",
    "========================================PREGUNTA 17==========================================================\n",
    "\n",
    "'''\n",
    "ndc = data['ndc:17'].tolist()\n",
    "beck = data['beck:17'].tolist()\n",
    "slope, intercept, r_value, p_value, std_err = stats.linregress(ndc,beck)\n",
    "print('Significacncia estadística entre la pregunta #17 entre el ndc y el beck',p_value)"
   ]
  },
  {
   "cell_type": "code",
   "execution_count": 28,
   "metadata": {},
   "outputs": [
    {
     "name": "stdout",
     "output_type": "stream",
     "text": [
      "Significacncia estadística entre la pregunta #18 entre el ndc y el beck 0.23663268179227998\n"
     ]
    }
   ],
   "source": [
    "'''\n",
    "\n",
    "========================================PREGUNTA 18==========================================================\n",
    "\n",
    "'''\n",
    "ndc = data['ndc:18'].tolist()\n",
    "beck = data['beck:18'].tolist()\n",
    "slope, intercept, r_value, p_value, std_err = stats.linregress(ndc,beck)\n",
    "print('Significacncia estadística entre la pregunta #18 entre el ndc y el beck',p_value)"
   ]
  },
  {
   "cell_type": "code",
   "execution_count": 31,
   "metadata": {},
   "outputs": [
    {
     "name": "stdout",
     "output_type": "stream",
     "text": [
      "Significacncia estadística entre la pregunta #18 entre el ndc y el beck 0.014612302707052351\n"
     ]
    }
   ],
   "source": [
    "'''\n",
    "\n",
    "========================================COMPARACIÓN DE PROMEDIOS==========================================================\n",
    "\n",
    "'''\n",
    "ndc = data['promedio ndc'].tolist()\n",
    "beck = data['promedio beck'].tolist()\n",
    "slope, intercept, r_value, p_value, std_err = stats.linregress(ndc,beck)\n",
    "print('Significacncia estadística entre la pregunta #18 entre el ndc y el beck',p_value)"
   ]
  },
  {
   "cell_type": "code",
   "execution_count": null,
   "metadata": {},
   "outputs": [],
   "source": []
  }
 ],
 "metadata": {
  "kernelspec": {
   "display_name": "Python 3",
   "language": "python",
   "name": "python3"
  },
  "language_info": {
   "codemirror_mode": {
    "name": "ipython",
    "version": 3
   },
   "file_extension": ".py",
   "mimetype": "text/x-python",
   "name": "python",
   "nbconvert_exporter": "python",
   "pygments_lexer": "ipython3",
   "version": "3.7.1"
  }
 },
 "nbformat": 4,
 "nbformat_minor": 2
}
